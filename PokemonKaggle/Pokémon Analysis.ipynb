{
 "cells": [
  {
   "cell_type": "markdown",
   "metadata": {},
   "source": [
    "# Pokémon Visualisation\n",
    "\n",
    "**Over here we will be looking at the Pokémons distributed over the 7 generations and have fun creating some visualisation and trying to draw insights from them.**\n",
    "\n",
    "**We will be using tools like Pandas, seaborn and missingno for doing simple analytics as counting, filtering, cleaning the data and some basic plotting techniques.**\n",
    "\n",
    "<span style=\"color:gray\"> **Note: The dataset is available on [Kaggle](https://www.kaggle.com/rounakbanik/pokemon) and can be downloaded from there** </span>\n",
    "\n",
    "**Table of Contents:**\n",
    "1. [**Missing Values**](#missingValues)\n",
    "    1. [_Checking wether missing values are present in the data_](#missingValues1)\n",
    "    2. [_Visualising missing values_](#missingValues2)\n",
    "    3. [_Impute missing values_](#missingValues3)\n",
    "2. [**Analysing Datatypes**](#analysingDatatypes)\n",
    "    1. [_Different datatypes present in the dataframe_](#analysingDatatypes1)\n",
    "    2. [_Visualising the datatypes_](#analysingDatatypes2)\n",
    "3. [**Memory Consumption**](#memoryConsumption)\n",
    "    1. [_Optimising the integer columns_](#memoryConsumption1)\n",
    "    2. [_Optimising the float columns_](#memoryConsumption2)\n",
    "4. [**Data Exploraton**](#dataExploration)"
   ]
  },
  {
   "cell_type": "code",
   "execution_count": 1,
   "metadata": {},
   "outputs": [],
   "source": [
    "import numpy as np\n",
    "import pandas as pd\n",
    "import matplotlib.pyplot as plt\n",
    "import seaborn as sns\n",
    "import missingno as msno\n",
    "\n",
    "plt.style.use('ggplot')\n",
    "plt.rcParams['figure.dpi'] = 100"
   ]
  },
  {
   "cell_type": "markdown",
   "metadata": {},
   "source": [
    "<span style=\"color:gray\">**In case of real world problems, it is very common that we may face data with a lot of missing values. These missing values or `Nan` can create probelms while building visualisation and models for analysis. Thats why we use imputation techiques to handle these missing values. But before doing that we need to have a good understanding of how the NaN values are distributed in our dataset.**</span>\n",
    "\n",
    "<span style=\"color:gray\">**_Missingno_ library offers some really great tools to nicely visualise the distribution of NaN values. _Missingno_ is a Python library and compatible with Pandas**</span>\n",
    "\n",
    "Now we can load the dataset, let's name the dataframe **pokedata** and take a look at the first and the last 5 rows of the dataset to get ageneral idea of the data."
   ]
  },
  {
   "cell_type": "code",
   "execution_count": 2,
   "metadata": {},
   "outputs": [
    {
     "name": "stdout",
     "output_type": "stream",
     "text": [
      "(801, 41)\n"
     ]
    },
    {
     "data": {
      "text/html": [
       "<div>\n",
       "<style scoped>\n",
       "    .dataframe tbody tr th:only-of-type {\n",
       "        vertical-align: middle;\n",
       "    }\n",
       "\n",
       "    .dataframe tbody tr th {\n",
       "        vertical-align: top;\n",
       "    }\n",
       "\n",
       "    .dataframe thead th {\n",
       "        text-align: right;\n",
       "    }\n",
       "</style>\n",
       "<table border=\"1\" class=\"dataframe\">\n",
       "  <thead>\n",
       "    <tr style=\"text-align: right;\">\n",
       "      <th></th>\n",
       "      <th>abilities</th>\n",
       "      <th>against_bug</th>\n",
       "      <th>against_dark</th>\n",
       "      <th>against_dragon</th>\n",
       "      <th>against_electric</th>\n",
       "      <th>against_fairy</th>\n",
       "      <th>against_fight</th>\n",
       "      <th>against_fire</th>\n",
       "      <th>against_flying</th>\n",
       "      <th>against_ghost</th>\n",
       "      <th>...</th>\n",
       "      <th>percentage_male</th>\n",
       "      <th>pokedex_number</th>\n",
       "      <th>sp_attack</th>\n",
       "      <th>sp_defense</th>\n",
       "      <th>speed</th>\n",
       "      <th>type1</th>\n",
       "      <th>type2</th>\n",
       "      <th>weight_kg</th>\n",
       "      <th>generation</th>\n",
       "      <th>is_legendary</th>\n",
       "    </tr>\n",
       "  </thead>\n",
       "  <tbody>\n",
       "    <tr>\n",
       "      <th>0</th>\n",
       "      <td>['Overgrow', 'Chlorophyll']</td>\n",
       "      <td>1.0</td>\n",
       "      <td>1.0</td>\n",
       "      <td>1.0</td>\n",
       "      <td>0.5</td>\n",
       "      <td>0.5</td>\n",
       "      <td>0.5</td>\n",
       "      <td>2.0</td>\n",
       "      <td>2.0</td>\n",
       "      <td>1.0</td>\n",
       "      <td>...</td>\n",
       "      <td>88.1</td>\n",
       "      <td>1</td>\n",
       "      <td>65</td>\n",
       "      <td>65</td>\n",
       "      <td>45</td>\n",
       "      <td>grass</td>\n",
       "      <td>poison</td>\n",
       "      <td>6.9</td>\n",
       "      <td>1</td>\n",
       "      <td>0</td>\n",
       "    </tr>\n",
       "    <tr>\n",
       "      <th>1</th>\n",
       "      <td>['Overgrow', 'Chlorophyll']</td>\n",
       "      <td>1.0</td>\n",
       "      <td>1.0</td>\n",
       "      <td>1.0</td>\n",
       "      <td>0.5</td>\n",
       "      <td>0.5</td>\n",
       "      <td>0.5</td>\n",
       "      <td>2.0</td>\n",
       "      <td>2.0</td>\n",
       "      <td>1.0</td>\n",
       "      <td>...</td>\n",
       "      <td>88.1</td>\n",
       "      <td>2</td>\n",
       "      <td>80</td>\n",
       "      <td>80</td>\n",
       "      <td>60</td>\n",
       "      <td>grass</td>\n",
       "      <td>poison</td>\n",
       "      <td>13.0</td>\n",
       "      <td>1</td>\n",
       "      <td>0</td>\n",
       "    </tr>\n",
       "    <tr>\n",
       "      <th>2</th>\n",
       "      <td>['Overgrow', 'Chlorophyll']</td>\n",
       "      <td>1.0</td>\n",
       "      <td>1.0</td>\n",
       "      <td>1.0</td>\n",
       "      <td>0.5</td>\n",
       "      <td>0.5</td>\n",
       "      <td>0.5</td>\n",
       "      <td>2.0</td>\n",
       "      <td>2.0</td>\n",
       "      <td>1.0</td>\n",
       "      <td>...</td>\n",
       "      <td>88.1</td>\n",
       "      <td>3</td>\n",
       "      <td>122</td>\n",
       "      <td>120</td>\n",
       "      <td>80</td>\n",
       "      <td>grass</td>\n",
       "      <td>poison</td>\n",
       "      <td>100.0</td>\n",
       "      <td>1</td>\n",
       "      <td>0</td>\n",
       "    </tr>\n",
       "    <tr>\n",
       "      <th>3</th>\n",
       "      <td>['Blaze', 'Solar Power']</td>\n",
       "      <td>0.5</td>\n",
       "      <td>1.0</td>\n",
       "      <td>1.0</td>\n",
       "      <td>1.0</td>\n",
       "      <td>0.5</td>\n",
       "      <td>1.0</td>\n",
       "      <td>0.5</td>\n",
       "      <td>1.0</td>\n",
       "      <td>1.0</td>\n",
       "      <td>...</td>\n",
       "      <td>88.1</td>\n",
       "      <td>4</td>\n",
       "      <td>60</td>\n",
       "      <td>50</td>\n",
       "      <td>65</td>\n",
       "      <td>fire</td>\n",
       "      <td>NaN</td>\n",
       "      <td>8.5</td>\n",
       "      <td>1</td>\n",
       "      <td>0</td>\n",
       "    </tr>\n",
       "    <tr>\n",
       "      <th>4</th>\n",
       "      <td>['Blaze', 'Solar Power']</td>\n",
       "      <td>0.5</td>\n",
       "      <td>1.0</td>\n",
       "      <td>1.0</td>\n",
       "      <td>1.0</td>\n",
       "      <td>0.5</td>\n",
       "      <td>1.0</td>\n",
       "      <td>0.5</td>\n",
       "      <td>1.0</td>\n",
       "      <td>1.0</td>\n",
       "      <td>...</td>\n",
       "      <td>88.1</td>\n",
       "      <td>5</td>\n",
       "      <td>80</td>\n",
       "      <td>65</td>\n",
       "      <td>80</td>\n",
       "      <td>fire</td>\n",
       "      <td>NaN</td>\n",
       "      <td>19.0</td>\n",
       "      <td>1</td>\n",
       "      <td>0</td>\n",
       "    </tr>\n",
       "  </tbody>\n",
       "</table>\n",
       "<p>5 rows × 41 columns</p>\n",
       "</div>"
      ],
      "text/plain": [
       "                     abilities  against_bug  against_dark  against_dragon  \\\n",
       "0  ['Overgrow', 'Chlorophyll']          1.0           1.0             1.0   \n",
       "1  ['Overgrow', 'Chlorophyll']          1.0           1.0             1.0   \n",
       "2  ['Overgrow', 'Chlorophyll']          1.0           1.0             1.0   \n",
       "3     ['Blaze', 'Solar Power']          0.5           1.0             1.0   \n",
       "4     ['Blaze', 'Solar Power']          0.5           1.0             1.0   \n",
       "\n",
       "   against_electric  against_fairy  against_fight  against_fire  \\\n",
       "0               0.5            0.5            0.5           2.0   \n",
       "1               0.5            0.5            0.5           2.0   \n",
       "2               0.5            0.5            0.5           2.0   \n",
       "3               1.0            0.5            1.0           0.5   \n",
       "4               1.0            0.5            1.0           0.5   \n",
       "\n",
       "   against_flying  against_ghost  ...  percentage_male  pokedex_number  \\\n",
       "0             2.0            1.0  ...             88.1               1   \n",
       "1             2.0            1.0  ...             88.1               2   \n",
       "2             2.0            1.0  ...             88.1               3   \n",
       "3             1.0            1.0  ...             88.1               4   \n",
       "4             1.0            1.0  ...             88.1               5   \n",
       "\n",
       "   sp_attack  sp_defense  speed  type1   type2  weight_kg  generation  \\\n",
       "0         65          65     45  grass  poison        6.9           1   \n",
       "1         80          80     60  grass  poison       13.0           1   \n",
       "2        122         120     80  grass  poison      100.0           1   \n",
       "3         60          50     65   fire     NaN        8.5           1   \n",
       "4         80          65     80   fire     NaN       19.0           1   \n",
       "\n",
       "   is_legendary  \n",
       "0             0  \n",
       "1             0  \n",
       "2             0  \n",
       "3             0  \n",
       "4             0  \n",
       "\n",
       "[5 rows x 41 columns]"
      ]
     },
     "execution_count": 2,
     "metadata": {},
     "output_type": "execute_result"
    }
   ],
   "source": [
    "pokedata = pd.read_csv('/home/mihir/Desktop/Test/DataSet/Pokemon/pokemon.csv')\n",
    "print(pokedata.shape)\n",
    "pokedata.head()"
   ]
  },
  {
   "cell_type": "markdown",
   "metadata": {},
   "source": [
    "**We can see that we have:**\n",
    "1. _801_ Pokémon,\n",
    "2. 41 features to describe each Pokémon."
   ]
  },
  {
   "cell_type": "code",
   "execution_count": 3,
   "metadata": {},
   "outputs": [
    {
     "name": "stdout",
     "output_type": "stream",
     "text": [
      "<class 'pandas.core.frame.DataFrame'>\n",
      "RangeIndex: 801 entries, 0 to 800\n",
      "Data columns (total 41 columns):\n",
      " #   Column             Non-Null Count  Dtype  \n",
      "---  ------             --------------  -----  \n",
      " 0   abilities          801 non-null    object \n",
      " 1   against_bug        801 non-null    float64\n",
      " 2   against_dark       801 non-null    float64\n",
      " 3   against_dragon     801 non-null    float64\n",
      " 4   against_electric   801 non-null    float64\n",
      " 5   against_fairy      801 non-null    float64\n",
      " 6   against_fight      801 non-null    float64\n",
      " 7   against_fire       801 non-null    float64\n",
      " 8   against_flying     801 non-null    float64\n",
      " 9   against_ghost      801 non-null    float64\n",
      " 10  against_grass      801 non-null    float64\n",
      " 11  against_ground     801 non-null    float64\n",
      " 12  against_ice        801 non-null    float64\n",
      " 13  against_normal     801 non-null    float64\n",
      " 14  against_poison     801 non-null    float64\n",
      " 15  against_psychic    801 non-null    float64\n",
      " 16  against_rock       801 non-null    float64\n",
      " 17  against_steel      801 non-null    float64\n",
      " 18  against_water      801 non-null    float64\n",
      " 19  attack             801 non-null    int64  \n",
      " 20  base_egg_steps     801 non-null    int64  \n",
      " 21  base_happiness     801 non-null    int64  \n",
      " 22  base_total         801 non-null    int64  \n",
      " 23  capture_rate       801 non-null    object \n",
      " 24  classfication      801 non-null    object \n",
      " 25  defense            801 non-null    int64  \n",
      " 26  experience_growth  801 non-null    int64  \n",
      " 27  height_m           781 non-null    float64\n",
      " 28  hp                 801 non-null    int64  \n",
      " 29  japanese_name      801 non-null    object \n",
      " 30  name               801 non-null    object \n",
      " 31  percentage_male    703 non-null    float64\n",
      " 32  pokedex_number     801 non-null    int64  \n",
      " 33  sp_attack          801 non-null    int64  \n",
      " 34  sp_defense         801 non-null    int64  \n",
      " 35  speed              801 non-null    int64  \n",
      " 36  type1              801 non-null    object \n",
      " 37  type2              417 non-null    object \n",
      " 38  weight_kg          781 non-null    float64\n",
      " 39  generation         801 non-null    int64  \n",
      " 40  is_legendary       801 non-null    int64  \n",
      "dtypes: float64(21), int64(13), object(7)\n",
      "memory usage: 256.7+ KB\n"
     ]
    }
   ],
   "source": [
    "pokedata.info()"
   ]
  },
  {
   "cell_type": "markdown",
   "metadata": {},
   "source": [
    "A quick observation over here will be the data is **not purely numeric** and **there are null values** in the data base.\n",
    "\n",
    "\n",
    "<a id='missingValues'> \n",
    "## Missing Values \n",
    "</a>\n",
    "\n",
    "**In this section we will see:**\n",
    "1. Check wether missing values are present in the data (using code),\n",
    "2. Visualising missing values,\n",
    "3. Impute missing values.\n",
    "\n",
    "<a id='missingValues1'> \n",
    "### 1. Checking wether missing values are present in the data\n",
    "</a>"
   ]
  },
  {
   "cell_type": "code",
   "execution_count": 4,
   "metadata": {},
   "outputs": [
    {
     "data": {
      "text/plain": [
       "True"
      ]
     },
     "execution_count": 4,
     "metadata": {},
     "output_type": "execute_result"
    }
   ],
   "source": [
    "pokedata.isnull().values.any()"
   ]
  },
  {
   "cell_type": "markdown",
   "metadata": {},
   "source": [
    "We can see that **missing values are present** in the dataframe.\n",
    "\n",
    "What we can do is, we can try to **list all the columns that have the null values**."
   ]
  },
  {
   "cell_type": "code",
   "execution_count": 5,
   "metadata": {},
   "outputs": [
    {
     "name": "stdout",
     "output_type": "stream",
     "text": [
      "Number of columns with missing values: 4\n",
      "Columns with missing values are:\n",
      "1. height_m\n",
      "2. percentage_male\n",
      "3. type2\n",
      "4. weight_kg\n"
     ]
    }
   ],
   "source": [
    "cols_with_missing_val = pokedata.columns[pokedata.isnull().any()].tolist()\n",
    "print('Number of columns with missing values: {}'.format(len(cols_with_missing_val)))\n",
    "print('Columns with missing values are:')\n",
    "for i, col in enumerate(cols_with_missing_val):\n",
    "    print(str(i+1)+'.', col)"
   ]
  },
  {
   "cell_type": "markdown",
   "metadata": {},
   "source": [
    "There are **4** columns with missing values.\n",
    "\n",
    "Let's get the **exact count** of missing values in each column."
   ]
  },
  {
   "cell_type": "code",
   "execution_count": 6,
   "metadata": {},
   "outputs": [
    {
     "data": {
      "text/plain": [
       "height_m            20\n",
       "percentage_male     98\n",
       "type2              384\n",
       "weight_kg           20\n",
       "dtype: int64"
      ]
     },
     "execution_count": 6,
     "metadata": {},
     "output_type": "execute_result"
    }
   ],
   "source": [
    "pokedata.isnull().sum(axis = 0)[pokedata.isnull().sum(axis = 0) > 0]"
   ]
  },
  {
   "cell_type": "markdown",
   "metadata": {},
   "source": [
    "<a id='missingValues2'> \n",
    "### 2. Visualising missing values\n",
    "</a>\n",
    "    \n",
    "Over here we will be using `missingno` which offers a very nice way to present the missing values."
   ]
  },
  {
   "cell_type": "code",
   "execution_count": 7,
   "metadata": {},
   "outputs": [
    {
     "data": {
      "text/plain": [
       "<matplotlib.axes._subplots.AxesSubplot at 0x7f0f42a4cdd8>"
      ]
     },
     "execution_count": 7,
     "metadata": {},
     "output_type": "execute_result"
    },
    {
     "data": {
      "image/png": "[encoded data removed]",
      "text/plain": [
       "<Figure size 600x300 with 3 Axes>"
      ]
     },
     "metadata": {},
     "output_type": "display_data"
    }
   ],
   "source": [
    "msno.bar(pokedata[cols_with_missing_val], figsize = (6,3), color = \"#de2f51\", fontsize = 9, labels = True)"
   ]
  },
  {
   "cell_type": "markdown",
   "metadata": {},
   "source": [
    "Over here we have a **histogram** where all the **non missing values** are stacked seperately according to their count.\n",
    "\n",
    "**Observations:**\n",
    "1. **type2** column almost has half of the values missing.\n",
    "2. **height_m** and **weight_kg** have equal amount of missing values.\n",
    "\n",
    "**What we can do?**\n",
    "1. We can see if the missing values in **weight_kg** and **height_m** are **missing for the same Pokémon or different**.\n",
    "2. How are the missing values **distributed through the dataset**."
   ]
  },
  {
   "cell_type": "code",
   "execution_count": 8,
   "metadata": {},
   "outputs": [
    {
     "data": {
      "text/plain": [
       "<matplotlib.axes._subplots.AxesSubplot at 0x7f0f401e2128>"
      ]
     },
     "execution_count": 8,
     "metadata": {},
     "output_type": "execute_result"
    },
    {
     "data": {
      "image/png": "[encoded data removed]",
      "text/plain": [
       "<Figure size 600x300 with 2 Axes>"
      ]
     },
     "metadata": {},
     "output_type": "display_data"
    }
   ],
   "source": [
    "msno.matrix(pokedata[cols_with_missing_val], labels = True, fontsize = 9, figsize = (6, 3))"
   ]
  },
  {
   "cell_type": "markdown",
   "metadata": {},
   "source": [
    "**Observations:**\n",
    "1. Majority of the **height_m** and **weight_kg's** missing data is from the earlier generation.\n",
    "2. **type2's** missing values are distributed throughout the 801 Pokémon.\n",
    "3. **percentage_male** has not as many missing values but is also distributed through the 801 Pokémon.\n",
    "\n",
    "**What can we do?**\n",
    "1. The **height_m** and **weight_kg's** missing data is from the earlier generation and that is suspicious as the earlier the generation, more the data we should have about the Pokémon."
   ]
  },
  {
   "cell_type": "code",
   "execution_count": 9,
   "metadata": {},
   "outputs": [
    {
     "data": {
      "text/plain": [
       "<matplotlib.axes._subplots.AxesSubplot at 0x7f0f401500f0>"
      ]
     },
     "execution_count": 9,
     "metadata": {},
     "output_type": "execute_result"
    },
    {
     "data": {
      "image/png": "[encoded data removed]",
      "text/plain": [
       "<Figure size 2500x1000 with 1 Axes>"
      ]
     },
     "metadata": {},
     "output_type": "display_data"
    }
   ],
   "source": [
    "msno.dendrogram(pokedata[cols_with_missing_val])"
   ]
  },
  {
   "cell_type": "markdown",
   "metadata": {},
   "source": [
    "**Observation:**\n",
    "1. **type2** is the least related of the four columns."
   ]
  },
  {
   "cell_type": "code",
   "execution_count": 10,
   "metadata": {},
   "outputs": [
    {
     "data": {
      "text/plain": [
       "<matplotlib.axes._subplots.AxesSubplot at 0x7f0f4011c748>"
      ]
     },
     "execution_count": 10,
     "metadata": {},
     "output_type": "execute_result"
    },
    {
     "data": {
      "image/png": "[encoded data removed]",
      "text/plain": [
       "<Figure size 600x300 with 2 Axes>"
      ]
     },
     "metadata": {},
     "output_type": "display_data"
    }
   ],
   "source": [
    "msno.heatmap(pokedata[cols_with_missing_val], labels = True, fontsize = 9, figsize=(6,3))"
   ]
  },
  {
   "cell_type": "markdown",
   "metadata": {},
   "source": [
    "**Observation:**\n",
    "1. Over here we can see that among the missing, **height_m** and **weight_kg** have the highest correlation. This means that wherever **height_m** is missing a value, **weight_kg** is also missing a value for the same Pokémon.\n",
    "\n",
    "**What can be done?**\n",
    "1. We can see if the Pokémon that are missing values are **actually weightless** or are they **unmeasurable**.\n",
    "\n",
    "<a id='missingValues3'> \n",
    "### 3. Impute missing values\n",
    "</a>\n",
    "\n",
    "Inorder to impute the missing values we need to **see what the non-missing values look like**.\n",
    "\n",
    "The following code snippet shows the **number of unique values** in each of the columns with missing values."
   ]
  },
  {
   "cell_type": "code",
   "execution_count": 11,
   "metadata": {},
   "outputs": [
    {
     "data": {
      "text/plain": [
       "height_m            51\n",
       "percentage_male      7\n",
       "type2               18\n",
       "weight_kg          421\n",
       "dtype: int64"
      ]
     },
     "execution_count": 11,
     "metadata": {},
     "output_type": "execute_result"
    }
   ],
   "source": [
    "pokedata[cols_with_missing_val].nunique()"
   ]
  },
  {
   "cell_type": "markdown",
   "metadata": {},
   "source": [
    "**1. percentage_male**\n",
    "\n",
    "**percentage_male** is the percentage of a particular Pokémon population that are male. So we can say that a **missing value** over here will determine that, that particular Pokémon is **gender neutral**. What we can do is we can assign the gender neutral Pokémon as **\"-1\"**."
   ]
  },
  {
   "cell_type": "code",
   "execution_count": 12,
   "metadata": {},
   "outputs": [
    {
     "data": {
      "text/plain": [
       "array([ 88.1,  50. ,   0. , 100. ,  24.6,  75.4,   nan,  11.2])"
      ]
     },
     "execution_count": 12,
     "metadata": {},
     "output_type": "execute_result"
    }
   ],
   "source": [
    "pokedata.percentage_male.unique()"
   ]
  },
  {
   "cell_type": "markdown",
   "metadata": {},
   "source": [
    "As we can see there are **7 unique** values and the **NaN** value needs to be replaced by **\"-1\"**."
   ]
  },
  {
   "cell_type": "code",
   "execution_count": 13,
   "metadata": {},
   "outputs": [
    {
     "data": {
      "text/plain": [
       "0      88.1\n",
       "1      88.1\n",
       "2      88.1\n",
       "3      88.1\n",
       "4      88.1\n",
       "       ... \n",
       "796    -1.0\n",
       "797    -1.0\n",
       "798    -1.0\n",
       "799    -1.0\n",
       "800    -1.0\n",
       "Name: percentage_male, Length: 801, dtype: float64"
      ]
     },
     "execution_count": 13,
     "metadata": {},
     "output_type": "execute_result"
    }
   ],
   "source": [
    "pokedata.percentage_male.fillna(np.int(-1), inplace=True)\n",
    "pokedata.percentage_male"
   ]
  },
  {
   "cell_type": "markdown",
   "metadata": {},
   "source": [
    "As we can see the **Nan** values have been replaced by **\"-1.0\"**.\n",
    "\n",
    "**2. type2** \n",
    "\n",
    "Let's take a look at various string elements present in **type2**."
   ]
  },
  {
   "cell_type": "code",
   "execution_count": 14,
   "metadata": {},
   "outputs": [
    {
     "name": "stdout",
     "output_type": "stream",
     "text": [
      "18\n",
      "['poison' nan 'flying' 'dark' 'electric' 'ice' 'ground' 'fairy' 'grass'\n",
      " 'fighting' 'psychic' 'steel' 'fire' 'rock' 'water' 'dragon' 'ghost' 'bug'\n",
      " 'normal']\n"
     ]
    }
   ],
   "source": [
    "print(pokedata.type2.nunique())\n",
    "print(pokedata.type2.unique())"
   ]
  },
  {
   "cell_type": "markdown",
   "metadata": {},
   "source": [
    "We will assign the **Nan** value with a string not there in the list. We will be replacing **Nan** with **TEMP**."
   ]
  },
  {
   "cell_type": "code",
   "execution_count": 15,
   "metadata": {},
   "outputs": [
    {
     "data": {
      "text/plain": [
       "0      poison\n",
       "1      poison\n",
       "2      poison\n",
       "3        TEMP\n",
       "4        TEMP\n",
       "        ...  \n",
       "796    flying\n",
       "797     steel\n",
       "798    dragon\n",
       "799      TEMP\n",
       "800     fairy\n",
       "Name: type2, Length: 801, dtype: object"
      ]
     },
     "execution_count": 15,
     "metadata": {},
     "output_type": "execute_result"
    }
   ],
   "source": [
    "pokedata.type2.fillna('TEMP', inplace = True)\n",
    "pokedata.type2"
   ]
  },
  {
   "cell_type": "markdown",
   "metadata": {},
   "source": [
    "**3. height_m and weight_kg**\n",
    "\n",
    "We will list out all the Pokémon with no **height_m** and **weight_kg**."
   ]
  },
  {
   "cell_type": "code",
   "execution_count": 16,
   "metadata": {},
   "outputs": [
    {
     "data": {
      "text/plain": [
       "18       Rattata\n",
       "19      Raticate\n",
       "25        Raichu\n",
       "26     Sandshrew\n",
       "27     Sandslash\n",
       "36        Vulpix\n",
       "37     Ninetales\n",
       "49       Diglett\n",
       "50       Dugtrio\n",
       "51        Meowth\n",
       "52       Persian\n",
       "73       Geodude\n",
       "74      Graveler\n",
       "75         Golem\n",
       "87        Grimer\n",
       "88           Muk\n",
       "102    Exeggutor\n",
       "104      Marowak\n",
       "719        Hoopa\n",
       "744     Lycanroc\n",
       "Name: name, dtype: object"
      ]
     },
     "execution_count": 16,
     "metadata": {},
     "output_type": "execute_result"
    }
   ],
   "source": [
    "pokedata[pokedata.weight_kg.isnull()].name"
   ]
  },
  {
   "cell_type": "markdown",
   "metadata": {},
   "source": [
    "The above Pokémon have no **height_m** and **weight** and they are majority from the first generation which actually is weird.\n",
    "\n",
    "On seeing the names of the Pokémon and applying the knowledge we have for them, Pokémon like _Grimer, Muk, Diglet and Dugtrio_ it would be **difficult to estimate** their height and weight. But for other Pokémon it just simply **doesn't make sense for them to have no height or weight.**\n",
    "\n",
    "Ignoring the above observation, we will be replacing the **NaN** values with **0** as we have to deal with the data in hand and draw analysis."
   ]
  },
  {
   "cell_type": "code",
   "execution_count": 17,
   "metadata": {},
   "outputs": [],
   "source": [
    "pokedata.height_m.fillna(np.int(0), inplace=True)\n",
    "pokedata.weight_kg.fillna(np.int(0), inplace=True)"
   ]
  },
  {
   "cell_type": "markdown",
   "metadata": {},
   "source": [
    "**Checking** if replacing the values was succesful or not."
   ]
  },
  {
   "cell_type": "code",
   "execution_count": 18,
   "metadata": {},
   "outputs": [
    {
     "data": {
      "text/plain": [
       "False"
      ]
     },
     "execution_count": 18,
     "metadata": {},
     "output_type": "execute_result"
    }
   ],
   "source": [
    "pokedata.isnull().values.any()"
   ]
  },
  {
   "cell_type": "markdown",
   "metadata": {},
   "source": [
    "<a id='analysingDatatypes'> \n",
    "## Analysing Datatypes\n",
    "</a>\n",
    "\n",
    "**In this section we will see:**\n",
    "1. Different datatypes present in the dataframe\n",
    "2. Visualising the dataypes\n",
    "\n",
    "<a id='analysingDatatypes1'> \n",
    "### 1. Different datatypes present in the dataframe\n",
    "</a>\n",
    "\n",
    "We will see what **different datatypes** are present in the `pokedata` dataframe."
   ]
  },
  {
   "cell_type": "code",
   "execution_count": 19,
   "metadata": {},
   "outputs": [
    {
     "name": "stdout",
     "output_type": "stream",
     "text": [
      "Number of unique datatypes: 3\n",
      "List of unique datatypes:\n",
      " [dtype('O') dtype('float64') dtype('int64')]\n"
     ]
    }
   ],
   "source": [
    "print('Number of unique datatypes:', pokedata.dtypes.nunique())\n",
    "print('List of unique datatypes:\\n', pokedata.dtypes.unique())"
   ]
  },
  {
   "cell_type": "markdown",
   "metadata": {},
   "source": [
    "**Observation:**\n",
    "1. There are **three** different datatypes present in the dataframe:\n",
    "    1. Object\n",
    "    2. Float 64-bit\n",
    "    3. Int 64-bit\n",
    "\n",
    "<a id='analysingDatatypes2'> \n",
    "### 2. Visualising the datatypes\n",
    "</a>\n",
    "\n",
    "The reason we have to analyse the datatypes is for **memory consumption**. \n",
    "\n",
    "<span style='color:gray'>**Note: For this project it isn't necessary, but when we get into real world problems memory utilisation plays a big role in a particular project's success.**</span>\n",
    "\n",
    "We will see how the different datatypes mentioned above are **distributed** and **their counts**."
   ]
  },
  {
   "cell_type": "code",
   "execution_count": 20,
   "metadata": {},
   "outputs": [
    {
     "data": {
      "image/png": "[encoded data removed]",
      "text/plain": [
       "<Figure size 600x400 with 1 Axes>"
      ]
     },
     "metadata": {},
     "output_type": "display_data"
    }
   ],
   "source": [
    "ax = pd.value_counts(pokedata.dtypes).plot.bar()\n",
    "\n",
    "for p in ax.patches:\n",
    "    ax.annotate(str(p.get_height()), (p.get_x() + p.get_width() / 2.5, p.get_height() * 1.01))"
   ]
  },
  {
   "cell_type": "code",
   "execution_count": 21,
   "metadata": {},
   "outputs": [
    {
     "name": "stdout",
     "output_type": "stream",
     "text": [
      "Size of a float64 v/s float16: 8 v/s 2\n",
      "Size of an int64 v/s int8: 8 v/s 1\n",
      "Size of an object: 400\n"
     ]
    }
   ],
   "source": [
    "import sys\n",
    "print(\n",
    "    'Size of a float64 v/s float16:', \n",
    "    np.dtype(np.float64).itemsize, \n",
    "    'v/s', \n",
    "    np.dtype(np.float16).itemsize\n",
    ")\n",
    "print(\n",
    "    'Size of an int64 v/s int8:', \n",
    "    np.dtype(np.int64).itemsize,\n",
    "    'v/s',\n",
    "    np.dtype(np.int8).itemsize\n",
    ")\n",
    "print('Size of an object:', sys.getsizeof(object))"
   ]
  },
  {
   "cell_type": "markdown",
   "metadata": {},
   "source": [
    "**Observations:**\n",
    "1. All the datatypes are in **64-bit**,\n",
    "2. An **object** holds the **highest memory** but is flexible based on what it is storing,\n",
    "3. There is atleast a **difference of half or more** between the 64-bit datatypes and it's lower counterparts.\n",
    "\n",
    "**What can be done?**\n",
    "1. We can **check** every column and see **which datatype fits it the best**,\n",
    "2. **Assign** that datatype to that column.\n",
    "\n",
    "<a id='memoryConsumption'> \n",
    "## Memory Consumption\n",
    "</a>\n",
    "\n",
    "**Memory usage** is an important aspect when dealing with hardware of **limited capacity**.\n",
    "\n",
    "**In this section we will see:**\n",
    "1. How to monitor the memory usage using pandas\n",
    "2. Reduce the memory consumption by reassigning appropriate datatypes."
   ]
  },
  {
   "cell_type": "code",
   "execution_count": 22,
   "metadata": {},
   "outputs": [
    {
     "name": "stdout",
     "output_type": "stream",
     "text": [
      "Memory consumed by the training set:\t0.25067901611328125 MB\n"
     ]
    }
   ],
   "source": [
    "mem = pokedata.memory_usage(index = True).sum()\n",
    "print(\"Memory consumed by the training set:\\t{} MB\".format(mem / 1024 ** 2))"
   ]
  },
  {
   "cell_type": "markdown",
   "metadata": {},
   "source": [
    "By **altering the datatypes** we can **reduce** the memory usage.\n",
    "\n",
    "First we will start dealing with the `int` _(integer)_ datatype.\n",
    "\n",
    "<a id='memoryConsumption1'> \n",
    "### 1. Optimising the integer columns\n",
    "</a>"
   ]
  },
  {
   "cell_type": "code",
   "execution_count": 23,
   "metadata": {},
   "outputs": [],
   "source": [
    "def change_datatypes(df):\n",
    "    int_cols = list(df.select_dtypes(include = ['int']).columns)\n",
    "    for col in int_cols:\n",
    "        if ((np.max(df[col]) < 127) and (np.min(df[col] >= -128))):\n",
    "            df[col] = df[col].astype(np.int8)\n",
    "        elif ((np.max(df[col]) <= 32767 ) and (np.min(df[col] >= -32768))):\n",
    "            df[col] = df[col].astype(np.int16)\n",
    "        elif ((np.max(df[col]) < 2147483647) and (np.min(df[col] >= -2147483648))):\n",
    "            df[col] = df[col].astype(np.int32)\n",
    "        else:\n",
    "            df[col] = df[col].astype(np.int64)\n",
    "            \n",
    "change_datatypes(pokedata)"
   ]
  },
  {
   "cell_type": "code",
   "execution_count": 24,
   "metadata": {},
   "outputs": [
    {
     "name": "stdout",
     "output_type": "stream",
     "text": [
      "Memory consumed by the training set:\t0.19109535217285156 MB\n"
     ]
    }
   ],
   "source": [
    "mem = pokedata.memory_usage(index=True).sum()\n",
    "print(\"Memory consumed by the training set:\\t{} MB\".format(mem / 1024 ** 2))"
   ]
  },
  {
   "cell_type": "markdown",
   "metadata": {},
   "source": [
    "We can see there is about **0.06 MB** of reduction in the memory usage to the dataframe.\n",
    "\n",
    "Now let's optimise the columns with type `float64` to type `float32`.\n",
    "\n",
    "<a id='memoryConsumption2'> \n",
    "### 2. Optimising the float columns\n",
    "</a>"
   ]
  },
  {
   "cell_type": "code",
   "execution_count": 25,
   "metadata": {},
   "outputs": [
    {
     "name": "stdout",
     "output_type": "stream",
     "text": [
      "Memory consumed by the training set:\t0.12692832946777344 MB\n"
     ]
    }
   ],
   "source": [
    "def change_datatypes_float(df):\n",
    "    float_cols = list(df.select_dtypes(include = ['float']).columns)\n",
    "    for col in float_cols:\n",
    "        df[col] = df[col].astype(np.float32)\n",
    "        \n",
    "change_datatypes_float(pokedata)\n",
    "\n",
    "mem = pokedata.memory_usage(index = True).sum()\n",
    "print(\"Memory consumed by the training set:\\t{} MB\".format(mem / 1024 ** 2))"
   ]
  },
  {
   "cell_type": "markdown",
   "metadata": {},
   "source": [
    "We can see a further reduction in memory usage. Overall we have reduced the dataframe memory consumption by **~50%** from **0.25 MBs** to **0.12 MBs**.\n",
    "\n",
    "<a id='dataExploration'> \n",
    "## Data Exploration\n",
    "</a>\n",
    "\n",
    "Now as we are done with the dataframe optimisation. Let's move on to **data exploration** and build some awesome graphs.\n",
    "\n",
    "We will start with **exploring the data** present in different columns **based on various types**.\n",
    "\n",
    "**In this section we will see:**\n",
    "1. [**type1 and type2**](#type)"
   ]
  },
  {
   "cell_type": "code",
   "execution_count": 26,
   "metadata": {},
   "outputs": [
    {
     "data": {
      "text/plain": [
       "['abilities',\n",
       " 'capture_rate',\n",
       " 'classfication',\n",
       " 'japanese_name',\n",
       " 'name',\n",
       " 'type1',\n",
       " 'type2']"
      ]
     },
     "execution_count": 26,
     "metadata": {},
     "output_type": "execute_result"
    }
   ],
   "source": [
    "object_cols = pokedata.select_dtypes(include=['object']).columns.tolist()\n",
    "object_cols"
   ]
  },
  {
   "cell_type": "markdown",
   "metadata": {},
   "source": [
    "<a id='type'> \n",
    "### 1. type1 and type2 \n",
    "</a>\n",
    "\n",
    "**Types** are properties of Pokémons and their moves.\n",
    "\n",
    "Every Pokémon is either a **Primary type (_type1_)** or a combination of both **Primary and Secondary (_type1_ and _type2_)**. Some Pokémon do not have a **type2** variable, hence they are left to be with **missing values**. "
   ]
  },
  {
   "cell_type": "code",
   "execution_count": 27,
   "metadata": {},
   "outputs": [
    {
     "name": "stdout",
     "output_type": "stream",
     "text": [
      "Number of unique primary types: 18\n",
      "List of unique primary type:\n",
      " ['grass' 'fire' 'water' 'bug' 'normal' 'poison' 'electric' 'ground'\n",
      " 'fairy' 'fighting' 'psychic' 'rock' 'ghost' 'ice' 'dragon' 'dark' 'steel'\n",
      " 'flying']\n"
     ]
    }
   ],
   "source": [
    "print('Number of unique primary types:', pokedata.type1.nunique())\n",
    "print('List of unique primary type:\\n', pokedata.type1.unique())"
   ]
  },
  {
   "cell_type": "code",
   "execution_count": 28,
   "metadata": {},
   "outputs": [
    {
     "name": "stdout",
     "output_type": "stream",
     "text": [
      "Number of secondary types: 19\n",
      "List of secondary type:\n",
      " ['poison' 'TEMP' 'flying' 'dark' 'electric' 'ice' 'ground' 'fairy' 'grass'\n",
      " 'fighting' 'psychic' 'steel' 'fire' 'rock' 'water' 'dragon' 'ghost' 'bug'\n",
      " 'normal']\n"
     ]
    }
   ],
   "source": [
    "print('Number of secondary types:', pokedata.type2.nunique())\n",
    "print('List of secondary type:\\n', pokedata.type2.unique())"
   ]
  },
  {
   "cell_type": "markdown",
   "metadata": {},
   "source": [
    "As we remember we had replaced `NaN` with `TEMP` at the beginning of the notebook. We will have to replace it back for the convenience of the analysis or it will show us `TEMP` as one of the **secondary types**."
   ]
  },
  {
   "cell_type": "code",
   "execution_count": 29,
   "metadata": {},
   "outputs": [],
   "source": [
    "pokedata.replace('TEMP', np.nan, inplace = True)"
   ]
  },
  {
   "cell_type": "code",
   "execution_count": 30,
   "metadata": {},
   "outputs": [
    {
     "name": "stdout",
     "output_type": "stream",
     "text": [
      "['poison' nan 'flying' 'dark' 'electric' 'ice' 'ground' 'fairy' 'grass'\n",
      " 'fighting' 'psychic' 'steel' 'fire' 'rock' 'water' 'dragon' 'ghost' 'bug'\n",
      " 'normal']\n"
     ]
    }
   ],
   "source": [
    "print(pokedata.type2.unique())"
   ]
  },
  {
   "cell_type": "markdown",
   "metadata": {},
   "source": [
    "Now we will see the number of **single type** i.e. only primary type and **dual type** i.e. a combination of both primary and secondary Pokémon in the dataframe."
   ]
  },
  {
   "cell_type": "code",
   "execution_count": 31,
   "metadata": {},
   "outputs": [
    {
     "name": "stdout",
     "output_type": "stream",
     "text": [
      "Single type Pokémon: 384\n",
      "Dual type Pokémon: 417\n"
     ]
    }
   ],
   "source": [
    "print(\"Single type Pokémon: {}\\nDual type Pokémon: {}\".format(len(pokedata[pokedata.type2.isnull()]), len(pokedata[pokedata.type2.notna()])))"
   ]
  },
  {
   "cell_type": "code",
   "execution_count": 32,
   "metadata": {},
   "outputs": [
    {
     "data": {
      "image/png": "[encoded data removed]",
      "text/plain": [
       "<Figure size 600x400 with 1 Axes>"
      ]
     },
     "metadata": {},
     "output_type": "display_data"
    }
   ],
   "source": [
    "data = [417, 384]\n",
    "color = ['yellowgreen', 'lightskyblue']\n",
    "\n",
    "plt.pie(data,\n",
    "       labels=[\"Dual Type\", \"Single Type\"],\n",
    "       shadow=True,\n",
    "       colors=color,\n",
    "       explode=(0, 0.1),\n",
    "       startangle=90,\n",
    "       autopct=\"%1.1f%%\")\n",
    "\n",
    "plt.axis('equal')\n",
    "plt.title(\"Dual v/s Single Type Pokémon\")\n",
    "\n",
    "plt.tight_layout()\n",
    "plt.show()"
   ]
  },
  {
   "cell_type": "markdown",
   "metadata": {},
   "source": [
    "As we can see the distribution of **Single v/s Dual** type of Pokémon is almost half to half, with **Dual type being a slightly higher than Single type**.\n",
    "\n",
    "Now, we will see what are the **type combinations, Dual type Pokémon make**.\n",
    "\n",
    "<span style='color:gray'>**Note: We wouldnt be including the Pokémon that doesn't have a _Secondary type_**</span>"
   ]
  },
  {
   "cell_type": "code",
   "execution_count": 33,
   "metadata": {},
   "outputs": [
    {
     "data": {
      "image/png": "[encoded data removed]",
      "text/plain": [
       "<Figure size 1000x1000 with 2 Axes>"
      ]
     },
     "metadata": {},
     "output_type": "display_data"
    }
   ],
   "source": [
    "plt.subplots(figsize=(10, 10))\n",
    "\n",
    "sns.heatmap(\n",
    "    pokedata[pokedata.type2.notnull()].groupby(['type1', 'type2']).size().unstack(),\n",
    "    linewidths=1,\n",
    "    annot=True,\n",
    "    cmap='Blues'\n",
    ")\n",
    "\n",
    "plt.xticks(rotation=35)\n",
    "plt.show()"
   ]
  },
  {
   "cell_type": "markdown",
   "metadata": {},
   "source": [
    "**Observations:** \n",
    "1. We can see that few Pokémon have the **same Primary and Secondary type**.\n",
    "2. These **same type combination** includes:\n",
    "        1. Fire against Fire: 1, \n",
    "        2. Electric against Electric: 1,\n",
    "        3. Grass against Grass: 1, \n",
    "        4. Ground against Ground: 2, \n",
    "        5. Poison against Poison: 2\n",
    "    We will be digging deeper into this.\n",
    "3. **Considerabley high number of combinations** out of the 417 Pokémon are:\n",
    "    * Normal-Flying: 26\n",
    "    * Grass-Poison: 14\n",
    "    * Bug-Flying: 13\n",
    "    * Bug-Poison: 11\n",
    "    * Water-Ground: 9\n",
    "    \n",
    "**What can be done?**\n",
    "1. We can see **how valid** those same type combinations are.\n",
    "2. If **not**, we will try to figure out a way to **tackle that issue**."
   ]
  },
  {
   "cell_type": "code",
   "execution_count": 34,
   "metadata": {},
   "outputs": [
    {
     "name": "stdout",
     "output_type": "stream",
     "text": [
      "Number of Pokémon with same type in type1 and type2: 7\n",
      "25         Raichu\n",
      "49        Diglett\n",
      "50        Dugtrio\n",
      "87         Grimer\n",
      "88            Muk\n",
      "491       Shaymin\n",
      "554    Darmanitan\n",
      "Name: name, dtype: object\n"
     ]
    }
   ],
   "source": [
    "same_t1_t2 = pokedata[pokedata.type1 == pokedata.type2]\n",
    "\n",
    "print('Number of Pokémon with same type in type1 and type2:', len(same_t1_t2))\n",
    "print(same_t1_t2.name)"
   ]
  },
  {
   "cell_type": "markdown",
   "metadata": {},
   "source": [
    "The count **matches** our manual count based on the graph, i.e. **7**.\n",
    "\n",
    "We can also see that the Pokémon listed are **actually Single type** Pokémon and were **Falsely marked Dual type**."
   ]
  },
  {
   "cell_type": "code",
   "execution_count": 35,
   "metadata": {},
   "outputs": [
    {
     "name": "stderr",
     "output_type": "stream",
     "text": [
      "/home/mihir/.local/lib/python3.6/site-packages/ipykernel_launcher.py:1: SettingWithCopyWarning: \n",
      "A value is trying to be set on a copy of a slice from a DataFrame\n",
      "\n",
      "See the caveats in the documentation: https://pandas.pydata.org/pandas-docs/stable/user_guide/indexing.html#returning-a-view-versus-a-copy\n",
      "  \"\"\"Entry point for launching an IPython kernel.\n"
     ]
    },
    {
     "data": {
      "text/html": [
       "<div>\n",
       "<style scoped>\n",
       "    .dataframe tbody tr th:only-of-type {\n",
       "        vertical-align: middle;\n",
       "    }\n",
       "\n",
       "    .dataframe tbody tr th {\n",
       "        vertical-align: top;\n",
       "    }\n",
       "\n",
       "    .dataframe thead th {\n",
       "        text-align: right;\n",
       "    }\n",
       "</style>\n",
       "<table border=\"1\" class=\"dataframe\">\n",
       "  <thead>\n",
       "    <tr style=\"text-align: right;\">\n",
       "      <th></th>\n",
       "      <th>type1</th>\n",
       "      <th>type2</th>\n",
       "    </tr>\n",
       "  </thead>\n",
       "  <tbody>\n",
       "    <tr>\n",
       "      <th>25</th>\n",
       "      <td>electric</td>\n",
       "      <td>NaN</td>\n",
       "    </tr>\n",
       "  </tbody>\n",
       "</table>\n",
       "</div>"
      ],
      "text/plain": [
       "       type1 type2\n",
       "25  electric   NaN"
      ]
     },
     "execution_count": 35,
     "metadata": {},
     "output_type": "execute_result"
    }
   ],
   "source": [
    "pokedata.type2[pokedata.type1 == pokedata.type2] = np.nan\n",
    "pokedata[pokedata.name == 'Raichu'][['type1', 'type2']]"
   ]
  },
  {
   "cell_type": "markdown",
   "metadata": {},
   "source": [
    "Based on our findings we converted the **type2** of this **Falsely marked Dual type** Pokémon to `NaN`.\n",
    "\n",
    "Now we will again see the distribution of **Single v/s Dual type Pokémon**."
   ]
  },
  {
   "cell_type": "code",
   "execution_count": 36,
   "metadata": {},
   "outputs": [
    {
     "name": "stdout",
     "output_type": "stream",
     "text": [
      "Single type Pokémon: 391\n",
      "Dual type Pokémon: 410\n"
     ]
    }
   ],
   "source": [
    "print(\"Single type Pokémon: {}\\nDual type Pokémon: {}\".format(len(pokedata[pokedata.type2.isnull()]), len(pokedata[pokedata.type2.notna()])))"
   ]
  },
  {
   "cell_type": "code",
   "execution_count": 37,
   "metadata": {},
   "outputs": [
    {
     "data": {
      "image/png": "[encoded data removed]",
      "text/plain": [
       "<Figure size 600x400 with 1 Axes>"
      ]
     },
     "metadata": {},
     "output_type": "display_data"
    }
   ],
   "source": [
    "data = [410, 391]\n",
    "color = ['orange', 'red']\n",
    "\n",
    "plt.pie(data,\n",
    "       labels=[\"Dual Type\", \"Single Type\"],\n",
    "       shadow=True,\n",
    "       colors=color,\n",
    "       explode=(0, 0.1),\n",
    "       startangle=90,\n",
    "       autopct=\"%1.1f%%\")\n",
    "\n",
    "plt.axis('equal')\n",
    "plt.title(\"Dual v/s Single Type Pokémon\")\n",
    "\n",
    "plt.tight_layout()\n",
    "plt.show()"
   ]
  },
  {
   "cell_type": "markdown",
   "metadata": {},
   "source": [
    "There **wasn't much change** in the distribution of the graph but now we are sure that the **data if inaccurate is a little less inaccurate**.\n",
    "\n",
    "Now we will see the distribution of **type1** of Pokémon."
   ]
  },
  {
   "cell_type": "code",
   "execution_count": 38,
   "metadata": {},
   "outputs": [
    {
     "data": {
      "image/png": "[encoded data removed]",
      "text/plain": [
       "<Figure size 1170x827 with 1 Axes>"
      ]
     },
     "metadata": {},
     "output_type": "display_data"
    }
   ],
   "source": [
    "sns.set_style(\"whitegrid\")\n",
    "\n",
    "pt = pd.value_counts(pokedata['type1'])\n",
    "\n",
    "fig, ax = plt.subplots()\n",
    "fig.set_size_inches(11.7, 8.27)\n",
    "\n",
    "ax = sns.barplot(x = pt.index, y = pt, data = pokedata)\n",
    "ax.set_xticklabels(ax.get_xticklabels(), rotation = 75, fontsize = 12)\n",
    "ax.set(xlabel = 'Primary types', ylabel = 'Count')\n",
    "ax.set_title('Distribution of Primary Pokémon type')\n",
    "\n",
    "for each in ax.patches:\n",
    "    ax.annotate(str(int(each.get_height())), (each.get_x() + 0.15, each.get_height() * 1.005))"
   ]
  },
  {
   "cell_type": "markdown",
   "metadata": {},
   "source": [
    "**Top 3 most common type1 of Pokémons are:**\n",
    "1. **Water : 114**\n",
    "2. **Normal: 105**\n",
    "3. **Grass : 78**\n",
    "\n",
    "We will do the same for **type2** of Pokémon"
   ]
  },
  {
   "cell_type": "code",
   "execution_count": 39,
   "metadata": {},
   "outputs": [
    {
     "data": {
      "image/png": "[encoded data removed]",
      "text/plain": [
       "<Figure size 1170x827 with 1 Axes>"
      ]
     },
     "metadata": {},
     "output_type": "display_data"
    }
   ],
   "source": [
    "sns.set_style('whitegrid')\n",
    "pt = pd.value_counts(pokedata['type2'])\n",
    "\n",
    "fig, ax = plt.subplots()\n",
    "fig.set_size_inches(11.7, 8.27)\n",
    "\n",
    "ax = sns.barplot(x = pt.index, y = pt, data = pokedata)\n",
    "ax.set_xticklabels(ax.get_xticklabels(), rotation = 75, fontsize = 12)\n",
    "ax.set(xlabel = 'Secondary types', ylabel = 'Count')\n",
    "ax.set_title('Distribution of Secondary Pokémon type')\n",
    "\n",
    "for each in ax.patches:\n",
    "    ax.annotate(str(int(each.get_height())), (each.get_x() + 0.15, each.get_height() * 1.005))"
   ]
  },
  {
   "cell_type": "markdown",
   "metadata": {},
   "source": [
    "**Top 3 most common type2 of Pokémons are**\n",
    "1. **Flying: 95**\n",
    "2. **Ground: 32**\n",
    "3. **Poison: 32**\n",
    "\n",
    "\n",
    "**Observations:**\n",
    "1. **Primary type** refers to Pokémon's **strong type** and **secondary type** refers to Pokémon's **second strong type**. Based on that we can see that **flying type** is a lot of Pokémon's **secondory type** which gives them the ability to use flying attacks but their primary skills being some different type of attacks\n",
    "2. We can also see that the lack of **flying type** in **type1** is being compansated in **flying type being the highest in type2**, similarly it goes the same for **normal type** in **type2**."
   ]
  },
  {
   "cell_type": "markdown",
   "metadata": {},
   "source": [
    "**classification**"
   ]
  },
  {
   "cell_type": "code",
   "execution_count": null,
   "metadata": {},
   "outputs": [],
   "source": [
    "pokedata.classfication.nunique()"
   ]
  },
  {
   "cell_type": "code",
   "execution_count": null,
   "metadata": {},
   "outputs": [],
   "source": [
    "c = pd.value_counts(pokedata.classfication)\n",
    "\n",
    "for i in range(0,10):\n",
    "    print(\"{}: {}\".format(c.index[i], c[i]))"
   ]
  },
  {
   "cell_type": "markdown",
   "metadata": {},
   "source": [
    "Note:\n",
    "1. We can do is we can see if a particular class of pokemon contibute to their strength. But the issue over here is there are way too few numbers in each and every classification type, maximum being 8. So we will see if the type will actually let us determine strong or weak Pokémon."
   ]
  },
  {
   "cell_type": "markdown",
   "metadata": {},
   "source": [
    "**percentage_male**"
   ]
  },
  {
   "cell_type": "code",
   "execution_count": null,
   "metadata": {},
   "outputs": [],
   "source": [
    "ax = sns.countplot(x = pokedata['percentage_male'], data = pokedata)\n",
    "\n",
    "for each in ax.patches:\n",
    "    ax.annotate(str(int(each.get_height())), (each.get_x() + 0.15, each.get_height() * 1.005))"
   ]
  },
  {
   "cell_type": "code",
   "execution_count": null,
   "metadata": {},
   "outputs": [],
   "source": [
    "print('Entirely male Pokémon population: ', len(pokedata[pokedata.percentage_male == 100.00]))\n",
    "print('Entirely female Pokémon population: ', len(pokedata[pokedata.percentage_male == 0.00]))\n",
    "print('Gender neutral Pokémon population: ', len(pokedata[pokedata.percentage_male == -1]))\n",
    "print('Majority male Pokémon population: ', len(pokedata[pokedata.percentage_male > 50.00]))\n",
    "print('Majority female Pokémon population: ', len(pokedata[(pokedata.percentage_male < 50.00) & (pokedata.percentage_male > 0.00)]))\n",
    "print('Equal male and female Pokémon population: ', len(pokedata[pokedata.percentage_male == 50.00]))"
   ]
  },
  {
   "cell_type": "markdown",
   "metadata": {},
   "source": [
    "Observation:\n",
    "1. We can see which distribution og gender have the maxinum percentage of strong Pokémon"
   ]
  },
  {
   "cell_type": "code",
   "execution_count": null,
   "metadata": {},
   "outputs": [],
   "source": [
    "print(pokedata.capture_rate.nunique())\n",
    "print(pokedata.capture_rate.unique())"
   ]
  },
  {
   "cell_type": "code",
   "execution_count": null,
   "metadata": {},
   "outputs": [],
   "source": [
    "yy = pd.value_counts(pokedata['capture_rate'])\n",
    "\n",
    "fig, ax = plt.subplots()\n",
    "fig.set_size_inches(11.7, 8.27)\n",
    "sns.set_style('whitegrid')\n",
    "\n",
    "ax = sns.barplot(x = yy.index, y = yy, data = pokedata)\n",
    "ax.set_xticklabels(ax.get_xticklabels(), rotation = 75, fontsize = 12)\n",
    "ax.set(xlabel = 'Capture Rate:', ylabel = 'Number of Pokemon')\n",
    "ax.set_title('Distribution of capture rate against number of Pokémon')\n",
    "\n",
    "for each in ax.patches:\n",
    "    ax.annotate(str(int(each.get_height())), (each.get_x() + 0.05, each.get_height() * 1.005))"
   ]
  },
  {
   "cell_type": "markdown",
   "metadata": {},
   "source": [
    "Considering 255 to be the easiest to capture we can try to see few Pokémons that fall under this category and 3 being the most difficult to capture we would also like to see why these pokemons are so difficult to capture.\n",
    "\n",
    "We can also see if any of these Pokémon are legendary Pokémons."
   ]
  },
  {
   "cell_type": "code",
   "execution_count": null,
   "metadata": {},
   "outputs": [],
   "source": [
    "pokedata[pokedata.capture_rate == '255'].name[:5]"
   ]
  },
  {
   "cell_type": "code",
   "execution_count": null,
   "metadata": {},
   "outputs": [],
   "source": [
    "pokedata[pokedata.capture_rate == '3'].name[:5]"
   ]
  },
  {
   "cell_type": "markdown",
   "metadata": {},
   "source": [
    "There is also a Pokémon with a variable capture rate and I would like to see which Pokémon that is."
   ]
  },
  {
   "cell_type": "code",
   "execution_count": null,
   "metadata": {},
   "outputs": [],
   "source": [
    "pokedata[pokedata.capture_rate == '30 (Meteorite)255 (Core)'][['name', 'generation']]"
   ]
  },
  {
   "cell_type": "markdown",
   "metadata": {},
   "source": [
    "Upon searching online about this generation 7 Pokémon we found out that Minior can change forms and meteorite and core are the two forms associated with the Pokémon. We can assume the core capture rate as the base capture rate of the Pokémon and try to see are majority of the Pokémon easier to capture or difficult."
   ]
  },
  {
   "cell_type": "code",
   "execution_count": null,
   "metadata": {},
   "outputs": [],
   "source": [
    "pokedata.capture_rate.replace('30 (Meteorite)255 (Core)', '255', inplace = True)\n",
    "pokedata[pokedata.name == 'Minior'].capture_rate"
   ]
  },
  {
   "cell_type": "code",
   "execution_count": null,
   "metadata": {},
   "outputs": [],
   "source": [
    "pokedata.capture_rate = pokedata.capture_rate.astype(np.int32)"
   ]
  },
  {
   "cell_type": "code",
   "execution_count": null,
   "metadata": {},
   "outputs": [],
   "source": [
    "easy_to_cap = pokedata[pokedata.capture_rate >= ((255 - 3) / 2 )]\n",
    "diff_to_cap = pokedata[pokedata.capture_rate < ((255 - 3) / 2)]\n",
    "\n",
    "print(\"Easy to capture: {}\".format(len(easy_to_cap)))\n",
    "print(\"Difficult to capture: {}\".format(len(diff_to_cap)))"
   ]
  },
  {
   "cell_type": "markdown",
   "metadata": {},
   "source": [
    "Observation:\n",
    "1. In the Pokémon world it is difficult to capture majority of the Pokémon\n",
    "\n",
    "What can we do?\n",
    "1. We can see if the more difficult a pokemon to capture results into a stronger Pokémon and if that is the case are there any Pokémon that are weak also fall in difficult capturerate.\n",
    "2. We can also divide the set into even more categories like very easy, easy, difficult, very difficult."
   ]
  },
  {
   "cell_type": "markdown",
   "metadata": {},
   "source": [
    "**abilities**"
   ]
  },
  {
   "cell_type": "code",
   "execution_count": null,
   "metadata": {},
   "outputs": [],
   "source": [
    "pokedata.abilities.nunique()"
   ]
  },
  {
   "cell_type": "code",
   "execution_count": null,
   "metadata": {},
   "outputs": [],
   "source": [
    "pokedata.abilities.head(20).unique()"
   ]
  },
  {
   "cell_type": "code",
   "execution_count": null,
   "metadata": {},
   "outputs": [],
   "source": [
    "import re\n",
    "\n",
    "list_ability = pokedata.abilities.tolist()\n",
    "new_list = list()\n",
    "\n",
    "for i in range(0, len(list_ability)):\n",
    "    m = re.findall(r\"'(.*?)'\", list_ability[i], re.DOTALL)\n",
    "    for j in range(0, len(m)):\n",
    "        new_list.append(m[j])\n",
    "        \n",
    "list1 = set(new_list)\n",
    "print(list1)\n",
    "print(len(list1))\n",
    "\n",
    "from collections import Counter\n",
    "count = pd.Series(pokedata.abilities.str.replace('[\\[\\]\\'\\s]', '').str.split(',').map(Counter).sum())\n",
    "\n",
    "print(count.index)\n",
    "ax = sns.countplot(count)\n",
    "\n",
    "for each in ax.patches:\n",
    "    ax.annotate(str(int(each.get_height())), (each.get_x() + 0.05, each.get_height() * 1.005))"
   ]
  },
  {
   "cell_type": "markdown",
   "metadata": {},
   "source": [
    "We have 227 unique abilities."
   ]
  },
  {
   "cell_type": "markdown",
   "metadata": {},
   "source": [
    "**pokedex_number**"
   ]
  },
  {
   "cell_type": "code",
   "execution_count": null,
   "metadata": {},
   "outputs": [],
   "source": [
    "pokedata.pokedex_number.describe()"
   ]
  },
  {
   "cell_type": "markdown",
   "metadata": {},
   "source": [
    "**height_m and weight_kg**"
   ]
  },
  {
   "cell_type": "code",
   "execution_count": null,
   "metadata": {},
   "outputs": [],
   "source": [
    "ax = sns.distplot(pokedata.height_m, color = 'y')"
   ]
  },
  {
   "cell_type": "code",
   "execution_count": null,
   "metadata": {},
   "outputs": [],
   "source": [
    "ax = sns.pointplot(pokedata.height_m, orient = 'v', color = 'y')"
   ]
  },
  {
   "cell_type": "code",
   "execution_count": null,
   "metadata": {},
   "outputs": [],
   "source": [
    "ax = sns.distplot(pokedata.weight_kg, color = 'r')"
   ]
  },
  {
   "cell_type": "code",
   "execution_count": null,
   "metadata": {},
   "outputs": [],
   "source": [
    "ax = sns.pointplot(pokedata.weight_kg, orient = 'v', color = 'r')"
   ]
  },
  {
   "cell_type": "markdown",
   "metadata": {},
   "source": [
    "observations:\n",
    "1. Average weight and height are ~59 kg. and ~1.13 m respectively.\n",
    "2. Most Pokémon are between 0.1-4 m and wrigh between 1-200 kg.\n",
    "\n",
    "what we can do?\n",
    "1. It's a fair assumption that Pokémon that weigh more and having more height would most of the time provide sheer advantage if Pokémon were real, if not always, most of the times."
   ]
  },
  {
   "cell_type": "markdown",
   "metadata": {},
   "source": [
    "**base_egg_steps**"
   ]
  },
  {
   "cell_type": "code",
   "execution_count": null,
   "metadata": {},
   "outputs": [],
   "source": [
    "pokedata.base_egg_steps.nunique()"
   ]
  },
  {
   "cell_type": "code",
   "execution_count": null,
   "metadata": {},
   "outputs": [],
   "source": [
    "ax = sns.countplot(pokedata.base_egg_steps)\n",
    "plt.xlabel('Base Egg Steps')\n",
    "plt.ylabel('Count')\n",
    "plt.title('Distribution of steps required to hatch an egg.')\n",
    "\n",
    "for each in ax.patches:\n",
    "    ax.annotate(str(int(each.get_height())), (each.get_x() + 0.05, each.get_height() * 1.005))"
   ]
  },
  {
   "cell_type": "markdown",
   "metadata": {},
   "source": [
    "Observations:\n",
    "1. There are 10 unique numbers of steps\n",
    "2. Majority of the Pokémon require 5120 steps to hatch their eggs.\n",
    "\n",
    "What we can do?\n",
    "1. We can see if higher the steps results in stronger pokemon being born.\n",
    "2. We can also try to map the number of steps required to the time requred to walk that many steps in the Pokémon game and see if how much real world time investment would be required to get that pokemon."
   ]
  },
  {
   "cell_type": "markdown",
   "metadata": {},
   "source": [
    "**experience_growth**"
   ]
  },
  {
   "cell_type": "code",
   "execution_count": null,
   "metadata": {},
   "outputs": [],
   "source": [
    "pokedata.experience_growth.nunique()"
   ]
  },
  {
   "cell_type": "code",
   "execution_count": null,
   "metadata": {},
   "outputs": [],
   "source": [
    "ax = sns.countplot(pokedata.experience_growth)\n",
    "plt.xlabel('Experience Growth')\n",
    "plt.ylabel('Count')\n",
    "plt.title('Distribution of Experience Growth')\n",
    "\n",
    "for each in ax.patches:\n",
    "    ax.annotate(str(int(each.get_height())), (each.get_x() + 0.05, each.get_height() * 1.005))"
   ]
  },
  {
   "cell_type": "markdown",
   "metadata": {},
   "source": [
    "Observation:\n",
    "1. There are 6 uniques levels of experience growth.\n",
    "2. 600K exerience_growth are the Pokémons that will level up really fast and the Pokémon will grow gradually slower as the experience_growth increases.\n",
    "3. Pokémon with experience_growth of 1.64M will evolve the slowest.\n",
    "4. Majority of the Pokémon require 1M - 1.25M to get to level 100.\n",
    "\n",
    "What we can do?\n",
    "1. We can see what kind of Pokémon fall under which growth rate. Strong or Weak or if there is any correlation or not.\n",
    "2. We can also try to figure out how we can grow Pokémon the fastest."
   ]
  },
  {
   "cell_type": "markdown",
   "metadata": {},
   "source": [
    "# Stats"
   ]
  },
  {
   "cell_type": "code",
   "execution_count": null,
   "metadata": {},
   "outputs": [],
   "source": [
    "sns.distplot(pokedata.hp, hist = False, kde_kws={\"label\":\"hp\"})\n",
    "sns.distplot(pokedata.attack, hist = False, kde_kws={\"label\":\"attack\"})\n",
    "sns.distplot(pokedata.defense, hist = False, kde_kws={\"label\":\"defense\"})\n",
    "sns.distplot(pokedata.speed, hist = False, kde_kws={\"label\":\"speed\"})\n",
    "sns.distplot(pokedata.base_total, hist = False, kde_kws={\"label\":\"base total\"})\n",
    "sns.distplot(pokedata.sp_attack, hist = False, kde_kws={\"label\":\"special attack\"})\n",
    "sns.distplot(pokedata.sp_defense, hist = False, kde_kws={\"label\":\"special defense\"})"
   ]
  },
  {
   "cell_type": "markdown",
   "metadata": {},
   "source": [
    "Observation:\n",
    "1. We can see that all the stats except for base total follow a similar curve."
   ]
  },
  {
   "cell_type": "markdown",
   "metadata": {},
   "source": [
    "**base_happiness**"
   ]
  },
  {
   "cell_type": "code",
   "execution_count": null,
   "metadata": {},
   "outputs": [],
   "source": [
    "pokedata.base_happiness.nunique()"
   ]
  },
  {
   "cell_type": "code",
   "execution_count": null,
   "metadata": {},
   "outputs": [],
   "source": [
    "ax = sns.countplot(pokedata.base_happiness)\n",
    "plt.xlabel('Base Happiness')\n",
    "plt.ylabel('Count')\n",
    "plt.title('Distribution of Base Happiness')\n",
    "\n",
    "for each in ax.patches:\n",
    "    ax.annotate(str(int(each.get_height())), (each.get_x() + 0.05, each.get_height() * 1.005))"
   ]
  },
  {
   "cell_type": "markdown",
   "metadata": {},
   "source": [
    "Observation:\n",
    "1. There are 6 unique levels of happiness\n",
    "2. Majority of them have the happiness of 70 to start with.\n",
    "3. Very few are extremely happy.\n",
    "4. Very few are always grumpy.\n",
    "\n",
    "what can be done?\n",
    "1. We can decide based on the level of base happiness wether their growth or strength gets affected in any way positive or negative."
   ]
  },
  {
   "cell_type": "markdown",
   "metadata": {},
   "source": [
    "**hp**"
   ]
  },
  {
   "cell_type": "code",
   "execution_count": null,
   "metadata": {},
   "outputs": [],
   "source": [
    "pokedata.hp.nunique()"
   ]
  },
  {
   "cell_type": "code",
   "execution_count": null,
   "metadata": {},
   "outputs": [],
   "source": [
    "sns.distplot(pokedata.hp, hist = True, rug = True, kde_kws={\"label\": \"HP\"})\n",
    "plt.title('Distribution of HP')\n",
    "plt.xlabel('HP')"
   ]
  },
  {
   "cell_type": "markdown",
   "metadata": {},
   "source": [
    "Observation:\n",
    "\n",
    "1. Most Pokémon have the base hp in the range 25-150\n",
    "\n",
    "What can be done?\n",
    "\n",
    "1. We can see wether this affects their:\n",
    "    1. Level of strength\n",
    "    2. Depth of attack\n",
    "    3. Resistance to other attacks"
   ]
  },
  {
   "cell_type": "markdown",
   "metadata": {},
   "source": [
    "**attack and defense**"
   ]
  },
  {
   "cell_type": "code",
   "execution_count": null,
   "metadata": {},
   "outputs": [],
   "source": [
    "print('Attack:', pokedata.attack.nunique())\n",
    "print('Defense:', pokedata.defense.nunique())"
   ]
  },
  {
   "cell_type": "code",
   "execution_count": null,
   "metadata": {},
   "outputs": [],
   "source": [
    "sns.distplot(pokedata.attack, \n",
    "             color=\"r\", \n",
    "             hist_kws={\n",
    "                 \"histtype\":\"step\",\n",
    "                 \"color\":\"r\",\n",
    "             },\n",
    "             kde_kws={\n",
    "                 \"color\":'r',\n",
    "                 \"label\":\"Attack\"\n",
    "             })\n",
    "\n",
    "sns.distplot(pokedata.defense, \n",
    "             color=\"b\", \n",
    "             hist_kws={\n",
    "                 \"histtype\":\"step\",\n",
    "                 \"color\":\"b\",\n",
    "             },\n",
    "             kde_kws={\n",
    "                 \"color\":'b',\n",
    "                 \"label\":\"Defense\"\n",
    "             })\n",
    "\n",
    "plt.title(\"Distribution of Attack v/s Defense\")\n",
    "plt.xlabel(\"Value\")"
   ]
  },
  {
   "cell_type": "markdown",
   "metadata": {},
   "source": [
    "**sp_attack and sp_defense**"
   ]
  },
  {
   "cell_type": "code",
   "execution_count": null,
   "metadata": {},
   "outputs": [],
   "source": [
    "print('Special Attack:', pokedata.sp_attack.nunique())\n",
    "print('Special Defense:', pokedata.sp_defense.nunique())"
   ]
  },
  {
   "cell_type": "code",
   "execution_count": null,
   "metadata": {},
   "outputs": [],
   "source": [
    "sns.distplot(pokedata.sp_attack, \n",
    "             color=\"g\", \n",
    "             hist_kws={\n",
    "                 \"histtype\":\"step\",\n",
    "                 \"color\":\"g\",\n",
    "             },\n",
    "             kde_kws={\n",
    "                 \"color\":'g',\n",
    "                 \"label\":\"Attack\"\n",
    "             })\n",
    "\n",
    "sns.distplot(pokedata.sp_defense, \n",
    "             color=\"y\", \n",
    "             hist_kws={\n",
    "                 \"histtype\":\"step\",\n",
    "                 \"color\":\"y\",\n",
    "             },\n",
    "             kde_kws={\n",
    "                 \"color\":'y',\n",
    "                 \"label\":\"Defense\"\n",
    "             })\n",
    "\n",
    "plt.title(\"Distribution of Attack v/s Defense\")\n",
    "plt.xlabel(\"Value\")"
   ]
  },
  {
   "cell_type": "markdown",
   "metadata": {},
   "source": [
    "Observation:\n",
    "1. Most Pokémon have their attack and defense and respective specials in the range of 25-175.\n",
    "2. The end range of defense is greater than that of attack.\n",
    "\n",
    "What can be done?\n",
    "1. Correlation between attack and special attack and same goes for defense\n",
    "2. Relation to hp\n",
    "3. Club relation with primary secondary type of Pokémon"
   ]
  },
  {
   "cell_type": "markdown",
   "metadata": {},
   "source": [
    "**against_**"
   ]
  },
  {
   "cell_type": "code",
   "execution_count": null,
   "metadata": {},
   "outputs": [],
   "source": [
    "fig = plt.figure()\n",
    "fig.suptitle('bold figure suptitle', fontsize=14, fontweight='bold')\n",
    "\n",
    "ax = fig.add_subplot(111)\n",
    "fig.subplots_adjust(top=0.85)\n",
    "ax.set_title('axes title')\n",
    "\n",
    "ax.set_xlabel('xlabel')\n",
    "ax.set_ylabel('ylabel')\n",
    "\n",
    "ax.text(3, 8, 'boxed italics text in data coords', style='italic',\n",
    "        bbox={'facecolor': 'red', 'alpha': 0.5, 'pad': 10})\n",
    "\n",
    "ax.text(2, 6, r'an equation: $E=mc^2$', fontsize=15)\n",
    "\n",
    "ax.text(3, 2, 'unicode: Institut für Festkörperphysik')\n",
    "\n",
    "ax.text(0.95, 0.01, 'colored text in axes coords',\n",
    "        verticalalignment='bottom', horizontalalignment='right',\n",
    "        transform=ax.transAxes,\n",
    "        color='green', fontsize=15)\n",
    "\n",
    "\n",
    "ax.plot([2], [1], 'o')\n",
    "ax.annotate('annotate', xy=(2, 1), xytext=(3, 4),\n",
    "            arrowprops=dict(facecolor='black', shrink=0.05))\n",
    "\n",
    "ax.axis([0, 10, 0, 10])\n",
    "\n",
    "plt.show()"
   ]
  },
  {
   "cell_type": "code",
   "execution_count": null,
   "metadata": {},
   "outputs": [],
   "source": [
    "cols = pokedata.columns\n",
    "against = list()\n",
    "for col in cols:\n",
    "    if 'against_' in str(col):\n",
    "        against.append(col)\n",
    "        \n",
    "print(len(against))\n",
    "print(against)"
   ]
  },
  {
   "cell_type": "code",
   "execution_count": null,
   "metadata": {},
   "outputs": [],
   "source": [
    "unique_elements = pd.unique(pokedata[against].values.ravel('K')).tolist()\n",
    "unique_elements"
   ]
  },
  {
   "cell_type": "code",
   "execution_count": null,
   "metadata": {},
   "outputs": [],
   "source": [
    "for col in against:\n",
    "    if np.mean(pokedata[col]) > 1.2:\n",
    "        print(col)\n",
    "\n",
    "for col in against:\n",
    "    if np.sum(pokedata[col]) > 1000:\n",
    "        print(col)"
   ]
  },
  {
   "cell_type": "code",
   "execution_count": null,
   "metadata": {
    "scrolled": false
   },
   "outputs": [],
   "source": [
    "colors = ['pink', 'r', 'orange', 'y', 'g', 'darkgreen', 'skyblue', 'b', 'purple', 'gray']\n",
    "\n",
    "for col in range(0, len(against)):\n",
    "    print(against[col])\n",
    "    print(pokedata[against[col]].unique())\n",
    "    \n",
    "    pp = pd.value_counts(pokedata[against[col]])\n",
    "    \n",
    "    ax = pp.plot.bar(color = colors[col % len(colors)])\n",
    "    \n",
    "    for each in ax.patches:\n",
    "        ax.annotate(str(int(each.get_height())), (each.get_x() + 0.05, each.get_height() * 1.005))\n",
    "    \n",
    "    plt.show()"
   ]
  },
  {
   "cell_type": "code",
   "execution_count": null,
   "metadata": {
    "scrolled": false
   },
   "outputs": [],
   "source": [
    "for col in against: \n",
    "    print('Strong', col)\n",
    "    pt = pd.value_counts(pokedata[pokedata[col] < 1]['type1'])\n",
    "    print(pt[:3])\n",
    "    pt = pd.value_counts(pokedata[pokedata[col] < 1]['type2'])\n",
    "    print(pt[:3], '\\n')\n",
    "    print('Weak', col)\n",
    "    pt = pd.value_counts(pokedata[pokedata[col] >= 2]['type1'])\n",
    "    print(pt[:3])\n",
    "    pt = pd.value_counts(pokedata[pokedata[col] >= 2]['type2'])\n",
    "    print(pt[:3], '\\n\\n')"
   ]
  },
  {
   "cell_type": "markdown",
   "metadata": {},
   "source": [
    "Observation:\n",
    "1. Most Pokémon suffer from every attack of atleast 1.0\n",
    "2. There are some Pokemon.\n",
    "3. We have also figured which type is strong and weak against a certain type of Pokémon. For eg. Bug Pokemon are weak against Fire, flying and strong against grass, psychic.\n",
    "\n",
    "What can we do?\n",
    "1. We can ake into consideration the above observation to determine a combination of types that can sustain the maximum amount of Pokémon."
   ]
  },
  {
   "cell_type": "markdown",
   "metadata": {},
   "source": [
    "**speed**"
   ]
  },
  {
   "cell_type": "code",
   "execution_count": null,
   "metadata": {},
   "outputs": [],
   "source": [
    "print(pokedata.speed.nunique())"
   ]
  },
  {
   "cell_type": "code",
   "execution_count": null,
   "metadata": {},
   "outputs": [],
   "source": [
    "pokedata.speed.describe()"
   ]
  },
  {
   "cell_type": "code",
   "execution_count": null,
   "metadata": {},
   "outputs": [],
   "source": [
    "sns.distplot(pokedata.speed, color='orange')"
   ]
  },
  {
   "cell_type": "code",
   "execution_count": null,
   "metadata": {},
   "outputs": [],
   "source": [
    "print('Fastest Pokémon: {} {}'.format(pokedata.name[pokedata.speed.idxmax()], pokedata.speed[pokedata.speed.idxmax()]))\n",
    "print('Slowest Pokémon: {} {}'.format(pokedata.name[pokedata.speed.idxmin()], pokedata.speed[pokedata.speed.idxmin()]))"
   ]
  },
  {
   "cell_type": "markdown",
   "metadata": {},
   "source": [
    "We can come up with our own definition of speed.\n",
    "\n",
    "* Fast Pokémon < Mean + Standard Deviation\n",
    "* Slow Pokémon > Mean - Standard Deviation\n",
    "* Very Fast Pokémon > Mean + 2 * Standard Deviation\n",
    "* Very Slow Pokémon < Mean + 2 * Standard Deviation\n",
    "\n",
    "Let's see what we get:"
   ]
  },
  {
   "cell_type": "code",
   "execution_count": null,
   "metadata": {},
   "outputs": [],
   "source": [
    "speed_statistics = pokedata.speed.describe()\n",
    "\n",
    "mean = speed_statistics[1]\n",
    "std_div = speed_statistics[2]\n",
    "\n",
    "fast = pokedata[(pokedata.speed > mean + std_div) & (pokedata.speed < mean + 2 * std_div) ]['name']\n",
    "slow = pokedata[(pokedata.speed < mean - std_div) & (pokedata.speed > mean - 2 * std_div)]['name']\n",
    "vfast = pokedata[pokedata.speed > mean + 2 * std_div]['name']\n",
    "vslow  = pokedata[pokedata.speed < mean - 2 * std_div]['name']\n",
    "normal = pokedata[(pokedata.speed < mean + std_div) & (pokedata.speed > mean - std_div)]\n",
    "\n",
    "speed_levels = ['fast', 'slow', 'vfast', 'vslow', 'normal']\n",
    "speed_count = list(map(len, [fast, slow, vfast, vslow, normal]))\n",
    "print(speed_count)\n",
    "\n",
    "plt.barh(np.array(range(len(speed_count))), speed_count, color  = 'orange')\n",
    "plt.yticks(np.array(range(len(speed_count))), speed_levels)\n",
    "plt.title('Count of Pokémon for different Speed levels')\n",
    "\n",
    "for index, value in enumerate(speed_count):\n",
    "    plt.text(value, index, str(value))\n",
    "    \n",
    "plt.show()"
   ]
  },
  {
   "cell_type": "markdown",
   "metadata": {},
   "source": [
    "Observations:\n",
    "1. Over 500 Pokémon have speed within the mean and single standard deviation which is normal for our standards.\n",
    "2. almost 25 Pokémon are labeled fast ot slow.\n",
    "3. 23 Pokémon are very fast against 3 very slow."
   ]
  },
  {
   "cell_type": "code",
   "execution_count": null,
   "metadata": {},
   "outputs": [],
   "source": [
    "pokedata.generation.nunique()"
   ]
  },
  {
   "cell_type": "code",
   "execution_count": null,
   "metadata": {},
   "outputs": [],
   "source": [
    "ax = sns.countplot(x = 'generation', data = pokedata)\n",
    "\n",
    "for each in ax.patches:\n",
    "    ax.annotate(str(int(each.get_height())), (each.get_x() + 0.05, each.get_height() * 1.005))"
   ]
  },
  {
   "cell_type": "code",
   "execution_count": null,
   "metadata": {},
   "outputs": [],
   "source": [
    "pp = pd.value_counts(pokedata.generation)\n",
    "pp.plot.pie(startangle = 270, autopct = '%1.1f%%', shadow = False, explode = (0.05, 0.05, 0.05, 0.05, 0.05, 0.05, 0.05))\n",
    "plt.axis('equal')\n",
    "plt.show()"
   ]
  },
  {
   "cell_type": "markdown",
   "metadata": {},
   "source": [
    "Observations:\n",
    "1. A bulk of Pokémon are from the 1st and the 5th generation, 18.9% and 19.5 % respectively.\n",
    "\n",
    "What can be done?\n",
    "1. We will see if later generation Pokémon have more strength or strong Pokémon are distributed throuhout the 7 generations."
   ]
  },
  {
   "cell_type": "markdown",
   "metadata": {},
   "source": [
    "**is_legendary**"
   ]
  },
  {
   "cell_type": "code",
   "execution_count": null,
   "metadata": {},
   "outputs": [],
   "source": [
    "ax = sns.countplot(x = pokedata.is_legendary, data = pokedata)\n",
    "plt.title('Distribution of legendary vs non-legendary')\n",
    "plt.xlabel('Is Legendary')\n",
    "plt.ylabel('Count')"
   ]
  },
  {
   "cell_type": "markdown",
   "metadata": {},
   "source": [
    "**Observation:**\n",
    "\n",
    "* Less than 100 Pokémon are legendary.\n",
    "\n",
    "**What can be done?**\n",
    "\n",
    "* See wether legendary Pokémon have exceptional statistics.\n",
    "* What makes them so special to attain status of legend"
   ]
  },
  {
   "cell_type": "markdown",
   "metadata": {},
   "source": [
    "# Data Preprocessing"
   ]
  },
  {
   "cell_type": "code",
   "execution_count": null,
   "metadata": {},
   "outputs": [],
   "source": [
    "from sklearn import preprocessing\n",
    "from sklearn.decomposition import PCA"
   ]
  },
  {
   "cell_type": "code",
   "execution_count": null,
   "metadata": {},
   "outputs": [],
   "source": [
    "pokedata.info()"
   ]
  },
  {
   "cell_type": "code",
   "execution_count": null,
   "metadata": {},
   "outputs": [],
   "source": [
    "pokedata.type2.fillna('NA', inplace=True)\n",
    "pokedata.type2.isna().any()"
   ]
  },
  {
   "cell_type": "code",
   "execution_count": null,
   "metadata": {},
   "outputs": [],
   "source": [
    "for col in pokedata.columns:\n",
    "    print(col, pokedata[col].nunique())"
   ]
  },
  {
   "cell_type": "markdown",
   "metadata": {},
   "source": [
    "Categorical cardinal variables:\n",
    "1. type1\n",
    "2. type2\n",
    "3. generation\n",
    "\n",
    "Catrgorical variables not contributiong to the analysis\n",
    "1. abilities\n",
    "    1. can convert the abilities ito a new varable consisting of number of abilities\n",
    "2. classification\n",
    "3. japanese_name\n",
    "4. name"
   ]
  },
  {
   "cell_type": "code",
   "execution_count": null,
   "metadata": {},
   "outputs": [],
   "source": [
    "pokedata = pd.concat(\n",
    "    [\n",
    "        pokedata, \n",
    "        pd.get_dummies(pokedata.generation, prefix='generation'), \n",
    "        pd.get_dummies(pokedata.type1, prefix='type1'), \n",
    "        pd.get_dummies(pokedata.type2, prefix='type2')\n",
    "    ], \n",
    "    axis = 1, \n",
    "    sort=False\n",
    ")\n",
    "pokedata.info()"
   ]
  },
  {
   "cell_type": "code",
   "execution_count": null,
   "metadata": {},
   "outputs": [],
   "source": [
    "pokedata.drop(\n",
    "    [\n",
    "        'generation', \n",
    "        'type1', \n",
    "        'type2', \n",
    "        'classfication', \n",
    "        'japanese_name', \n",
    "        'name'\n",
    "    ], \n",
    "    axis = 1, \n",
    "    inplace = True\n",
    ")\n",
    "\n",
    "pokedata.shape"
   ]
  },
  {
   "cell_type": "code",
   "execution_count": null,
   "metadata": {},
   "outputs": [],
   "source": [
    "pokedata.abilities = pokedata.abilities.apply(len)"
   ]
  },
  {
   "cell_type": "code",
   "execution_count": null,
   "metadata": {},
   "outputs": [],
   "source": [
    "print(pokedata.abilities.dtype)\n",
    "pokedata.abilities.head()"
   ]
  },
  {
   "cell_type": "code",
   "execution_count": null,
   "metadata": {},
   "outputs": [],
   "source": [
    "for col in pokedata.columns:\n",
    "    if pokedata[col].dtype == object:\n",
    "        print(col)\n",
    "        break\n",
    "else:\n",
    "    print('No column with dtype object.')"
   ]
  },
  {
   "cell_type": "code",
   "execution_count": null,
   "metadata": {},
   "outputs": [],
   "source": [
    "min_max_scalar = preprocessing.MinMaxScaler()\n",
    "x = min_max_scalar.fit_transform(pokedata)\n",
    "normpokedata = pd.DataFrame(x, columns=pokedata.columns)"
   ]
  },
  {
   "cell_type": "code",
   "execution_count": null,
   "metadata": {},
   "outputs": [],
   "source": [
    "normpokedata.describe()"
   ]
  },
  {
   "cell_type": "code",
   "execution_count": null,
   "metadata": {},
   "outputs": [],
   "source": [
    "#pca = PCA(n_components=10)\n",
    "#pca_normalised = pca.fit_transform(normpokedata)"
   ]
  },
  {
   "cell_type": "code",
   "execution_count": null,
   "metadata": {},
   "outputs": [],
   "source": [
    "#pca.explained_variance_ratio_"
   ]
  },
  {
   "cell_type": "code",
   "execution_count": null,
   "metadata": {},
   "outputs": [],
   "source": [
    "#pca.n_components_"
   ]
  },
  {
   "cell_type": "code",
   "execution_count": null,
   "metadata": {},
   "outputs": [],
   "source": [
    "from sklearn.cluster import KMeans\n",
    "\n",
    "cost = []\n",
    "for i in range(1,40):\n",
    "    km = KMeans(\n",
    "        n_clusters=i,\n",
    "        max_iter=500\n",
    "    )\n",
    "    km.fit(normpokedata)\n",
    "    cost.append(km.inertia_)\n",
    "    \n",
    "plt.plot(range(1,40), cost)\n",
    "plt.show()"
   ]
  },
  {
   "cell_type": "code",
   "execution_count": null,
   "metadata": {},
   "outputs": [],
   "source": [
    "km = KMeans(\n",
    "    n_clusters=4,\n",
    "    max_iter=500\n",
    ")\n",
    "km.fit(normpokedata)"
   ]
  },
  {
   "cell_type": "code",
   "execution_count": null,
   "metadata": {},
   "outputs": [],
   "source": [
    "plt.scatter(\n",
    "    normpokedata[:, 0], \n",
    "    normpokedata[:, 1],\n",
    "    c = km.labels_,\n",
    "    cmap='rainbow'\n",
    ")"
   ]
  },
  {
   "cell_type": "code",
   "execution_count": null,
   "metadata": {},
   "outputs": [],
   "source": []
  },
  {
   "cell_type": "code",
   "execution_count": null,
   "metadata": {},
   "outputs": [],
   "source": []
  }
 ],
 "metadata": {
  "kernelspec": {
   "display_name": "Python 3",
   "language": "python",
   "name": "python3"
  },
  "language_info": {
   "codemirror_mode": {
    "name": "ipython",
    "version": 3
   },
   "file_extension": ".py",
   "mimetype": "text/x-python",
   "name": "python",
   "nbconvert_exporter": "python",
   "pygments_lexer": "ipython3",
   "version": "3.6.9"
  }
 },
 "nbformat": 4,
 "nbformat_minor": 2
}
